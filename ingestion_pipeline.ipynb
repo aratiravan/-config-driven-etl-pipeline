{
  "cells": [
    {
      "cell_type": "code",
      "source": [
        "import pandas as pd\n",
        "# Download and save iris dataset\n",
        "cus_data=pd.read_csv(\"https://people.sc.fsu.edu/~jburkardt/data/csv/hw_200.csv\")\n",
        "cus_data.to_csv(\"input/cus_data.csv\", index=False)\n",
        "# Download and save titanic dataset\n",
        "titanic = pd.read_csv(\"https://raw.githubusercontent.com/datasciencedojo/datasets/master/titanic.csv\")\n",
        "titanic.to_csv(\"input/titanic.csv\", index=False)"
      ],
      "outputs": [],
      "execution_count": 5,
      "metadata": {
        "gather": {
          "logged": 1748355373405
        }
      }
    },
    {
      "cell_type": "code",
      "source": [
        "cus_data.head()"
      ],
      "outputs": [],
      "execution_count": null,
      "metadata": {
        "gather": {
          "logged": 1748355542521
        }
      }
    },
    {
      "cell_type": "code",
      "source": [
        "import os \n",
        "import json\n",
        "#load config\n",
        "with open(\"config.json\") as f:\n",
        "    config = json.load(f)\n",
        "input_dir = \"input\"\n",
        "output_dir = \"output\"\n",
        "os.makedirs(output_dir, exist_ok=True)\n",
        "for file in os.listdir(input_dir):\n",
        "    if file.endswith(\".csv\"):\n",
        "        print(f\"\\nProcessing: {file}\")\n",
        "        df = pd.read_csv(os.path.join(input_dir, file))\n",
        "        # Drop columns if they exist\n",
        "        for col in config.get(\"drop_columns\", []):\n",
        "            if col in df.columns:\n",
        "                df.drop(col, axis=1, inplace=True)\n",
        "        # Fill missing values\n",
        "        for col, val in config.get(\"fillna\", {}).items():\n",
        "            if col in df.columns:\n",
        "                df[col].fillna(val, inplace=True)\n",
        "        # Convert data types\n",
        "        for col, dtype in config.get(\"convert_types\", {}).items():\n",
        "            if col in df.columns:\n",
        "                try:\n",
        "                    df[col] = df[col].astype(dtype)\n",
        "                except Exception as e:\n",
        "                    print(f\"Failed to convert column {col}: {e}\")\n",
        "        # Save cleaned file\n",
        "        cleaned_path = os.path.join(output_dir, f\"cleaned_{file}\")\n",
        "        df.to_csv(cleaned_path, index=False)\n",
        "        print(f\"Saved: {cleaned_path}\")\n"
      ],
      "outputs": [
        {
          "output_type": "stream",
          "name": "stdout",
          "text": "\nProcessing: cus_data.csv\nSaved: output/cleaned_cus_data.csv\n\nProcessing: titanic.csv\nSaved: output/cleaned_titanic.csv\n"
        }
      ],
      "execution_count": 15,
      "metadata": {
        "gather": {
          "logged": 1748356859124
        }
      }
    }
  ],
  "metadata": {
    "kernelspec": {
      "name": "python310-sdkv2",
      "language": "python",
      "display_name": "Python 3.10 - SDK v2"
    },
    "language_info": {
      "name": "python",
      "version": "3.10.16",
      "mimetype": "text/x-python",
      "codemirror_mode": {
        "name": "ipython",
        "version": 3
      },
      "pygments_lexer": "ipython3",
      "nbconvert_exporter": "python",
      "file_extension": ".py"
    },
    "microsoft": {
      "ms_spell_check": {
        "ms_spell_check_language": "en"
      },
      "host": {
        "AzureML": {
          "notebookHasBeenCompleted": true
        }
      }
    },
    "kernel_info": {
      "name": "python310-sdkv2"
    },
    "nteract": {
      "version": "nteract-front-end@1.0.0"
    }
  },
  "nbformat": 4,
  "nbformat_minor": 2
}